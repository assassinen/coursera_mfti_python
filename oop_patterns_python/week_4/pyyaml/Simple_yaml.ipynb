{
 "cells": [
  {
   "cell_type": "markdown",
   "metadata": {},
   "source": [
    "# Использование yaml"
   ]
  },
  {
   "cell_type": "markdown",
   "metadata": {},
   "source": [
    "Импортируем необходимые библиотеки"
   ]
  },
  {
   "cell_type": "code",
   "execution_count": 1,
   "metadata": {
    "collapsed": true
   },
   "outputs": [],
   "source": [
    "import yaml"
   ]
  },
  {
   "cell_type": "markdown",
   "metadata": {},
   "source": [
    "Опишем конфигурацию, описывающую создание персонажа"
   ]
  },
  {
   "cell_type": "code",
   "execution_count": 2,
   "metadata": {
    "collapsed": true
   },
   "outputs": [],
   "source": [
    "hero_yaml = '''\n",
    "--- !Character\n",
    "factory:\n",
    "  !factory assassin\n",
    "name:\n",
    "  7NaGiBaToR7\n",
    "'''"
   ]
  },
  {
   "cell_type": "markdown",
   "metadata": {},
   "source": [
    "Используем абстрактную фабрику, использование которой будем конфигурировать"
   ]
  },
  {
   "cell_type": "code",
   "execution_count": 3,
   "metadata": {
    "collapsed": true
   },
   "outputs": [],
   "source": [
    "class HeroFactory:\n",
    "    @classmethod\n",
    "    def create_hero(Class, name):\n",
    "        return Class.Hero(name)\n",
    "    \n",
    "    @classmethod\n",
    "    def create_weapon(Class):\n",
    "        return Class.Weapon()\n",
    "    \n",
    "    @classmethod\n",
    "    def create_spell(Class):\n",
    "        return Class.Spell()"
   ]
  },
  {
   "cell_type": "code",
   "execution_count": 4,
   "metadata": {
    "collapsed": true
   },
   "outputs": [],
   "source": [
    "class WarriorFactory(HeroFactory):\n",
    "    class Hero:\n",
    "        def __init__(self, name):\n",
    "            self.name = name\n",
    "            self.weapon = None\n",
    "            self.armor = None\n",
    "            self.spell = None\n",
    "\n",
    "        def add_weapon(self, weapon):\n",
    "            self.weapon = weapon\n",
    "\n",
    "        def add_spell(self, spell):\n",
    "            self.spell = spell\n",
    "\n",
    "        def hit(self):\n",
    "            print(f\"Warrior {self.name} hits with {self.weapon.hit()}\")\n",
    "            self.weapon.hit()\n",
    "\n",
    "        def cast(self):\n",
    "            print(f\"Warrior {self.name} casts {self.spell.cast()}\")\n",
    "            self.spell.cast()\n",
    "              \n",
    "    class Weapon:\n",
    "        def hit(self):\n",
    "            return \"Claymore\"\n",
    "        \n",
    "    class Spell:\n",
    "        def cast(self):\n",
    "            return \"Power\"\n",
    "        \n",
    "    \n",
    "class MageFactory(HeroFactory):\n",
    "    class Hero:\n",
    "        def __init__(self, name):\n",
    "            self.name = name\n",
    "            self.weapon = None\n",
    "            self.armor = None\n",
    "            self.spell = None\n",
    "\n",
    "        def add_weapon(self, weapon):\n",
    "            self.weapon = weapon\n",
    "\n",
    "        def add_spell(self, spell):\n",
    "            self.spell = spell\n",
    "\n",
    "        def hit(self):\n",
    "            print(f\"Mage {self.name} hits with {self.weapon.hit()}\")\n",
    "            self.weapon.hit()\n",
    "\n",
    "        def cast(self):\n",
    "            print(f\"Mage {self.name} casts {self.spell.cast()}\")\n",
    "            self.spell.cast()\n",
    "            \n",
    "    class Weapon:\n",
    "        def hit(self):\n",
    "            return \"Staff\"\n",
    "        \n",
    "    class Spell:\n",
    "        def cast(self):\n",
    "            return \"Fireball\"\n",
    "    \n",
    "        \n",
    "class AssassinFactory(HeroFactory):\n",
    "    class Hero:\n",
    "        def __init__(self, name):\n",
    "            self.name = name\n",
    "            self.weapon = None\n",
    "            self.armor = None\n",
    "            self.spell = None\n",
    "\n",
    "        def add_weapon(self, weapon):\n",
    "            self.weapon = weapon\n",
    "\n",
    "        def add_spell(self, spell):\n",
    "            self.spell = spell\n",
    "\n",
    "        def hit(self):\n",
    "            print(f\"Assassin {self.name} hits with {self.weapon.hit()}\")\n",
    "            self.weapon.hit()\n",
    "\n",
    "        def cast(self):\n",
    "            print(f\"Assassin {self.name} casts {self.spell.cast()}\")\n",
    "     \n",
    "    class Weapon:\n",
    "        def hit(self):\n",
    "            return \"Dagger\"\n",
    "        \n",
    "    class Spell:\n",
    "        def cast(self):\n",
    "            return \"Invisibility\""
   ]
  },
  {
   "cell_type": "markdown",
   "metadata": {},
   "source": [
    "Опишем конструктор, который сможет обрабатывать узел `!factory`. Он будет возвращать соответствующую фабрику.\n",
    "\n",
    "Конструктор должен принимать 2 аргумента: `loader` и `node`. Объект `loader` — это загрузчик YAML, `node` — узел файла.\n",
    "Поскольку структура YAML-файла древовидная, то при первичном проходе обработчиком всё содержимое файла помещаеться в древовидную структуру, содержащую информацию файла в текстовом виде. `node` является узлом именно такого текстового дерева, а `loader` — загрузчик умеющий обрабатывать `node`. По итогу, ниже следующий конструктор `factory_constructor` будет являться частью `loader` и будет вызываться им по необходимости.\n",
    "\n",
    "Для описанного выше YAML-файла: `loader` — загрузчик, «знакомый» с данным конструктором; `node` — хранит текст `assassin` (информация, хранящаяся за именем пользовательского типом `!factory`) и различную дополнительную информацию.\n",
    "Поскольку `assassin` — простой скаляр, то для его получения (без дополнительной информации) необходимо воспользоваться методом `construct_scalar`. Если бы после `!factory` располагался список, то необходимо было бы воспользоваться методом `construct_sequenc` и т.д."
   ]
  },
  {
   "cell_type": "code",
   "execution_count": 5,
   "metadata": {
    "collapsed": true
   },
   "outputs": [],
   "source": [
    "def factory_constructor(loader, node):\n",
    "    data = loader.construct_scalar(node)\n",
    "    if data == \"mage\":\n",
    "        return MageFactory\n",
    "    elif data == \"warrior\":\n",
    "        return WarriorFactory\n",
    "    else:\n",
    "        return AssassinFactory"
   ]
  },
  {
   "cell_type": "markdown",
   "metadata": {},
   "source": [
    "Опишем класс `Character`, в который будут загружаться данные из yaml. Определим у него метод `create_hero`, позволяющий создать персонажа в соответствии с конфигурацией."
   ]
  },
  {
   "cell_type": "code",
   "execution_count": 6,
   "metadata": {
    "collapsed": true
   },
   "outputs": [],
   "source": [
    "class Character(yaml.YAMLObject):\n",
    "    yaml_tag = \"!Character\"\n",
    "    \n",
    "    def create_hero(self):\n",
    "        hero = self.factory.create_hero(self.name)\n",
    "\n",
    "        weapon = self.factory.create_weapon()\n",
    "        spell = self.factory.create_spell()\n",
    "\n",
    "        hero.add_weapon(weapon)\n",
    "        hero.add_spell(spell)\n",
    "\n",
    "        return hero"
   ]
  },
  {
   "cell_type": "markdown",
   "metadata": {},
   "source": [
    "Присоединим конструктор и создадим персонажа в соответствии с yaml-конфигурацией."
   ]
  },
  {
   "cell_type": "code",
   "execution_count": 7,
   "metadata": {},
   "outputs": [
    {
     "name": "stdout",
     "output_type": "stream",
     "text": [
      "Assassin 7NaGiBaToR7 hits with Dagger\n",
      "Assassin 7NaGiBaToR7 casts Invisibility\n"
     ]
    }
   ],
   "source": [
    "loader = yaml.Loader\n",
    "loader.add_constructor(\"!factory\", factory_constructor)\n",
    "hero = yaml.load(hero_yaml).create_hero()\n",
    "hero.hit()\n",
    "hero.cast()"
   ]
  }
 ],
 "metadata": {
  "kernelspec": {
   "display_name": "Python 3",
   "language": "python",
   "name": "python3"
  },
  "language_info": {
   "codemirror_mode": {
    "name": "ipython",
    "version": 3
   },
   "file_extension": ".py",
   "mimetype": "text/x-python",
   "name": "python",
   "nbconvert_exporter": "python",
   "pygments_lexer": "ipython3",
   "version": "3.6.3"
  }
 },
 "nbformat": 4,
 "nbformat_minor": 2
}
